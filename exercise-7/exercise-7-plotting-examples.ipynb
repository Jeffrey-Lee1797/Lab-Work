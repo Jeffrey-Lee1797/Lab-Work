{
 "cells": [
  {
   "cell_type": "code",
   "execution_count": 6,
   "metadata": {
    "collapsed": true
   },
   "outputs": [],
   "source": [
    "# Read in the file and make dictionaries of DBH at each census\n",
    "\n",
    "in_file = open(\"/home/eeb177-student/Desktop/EEB-177/Class-Assignments/classwork-21-Feb/cocoli.txt\")\n",
    "\n",
    "sizes_94 = {}\n",
    "sizes_97 = {}\n",
    "sizes_98 = {}\n",
    "\n",
    "# Get rid of header row\n",
    "in_file.readline()\n",
    "\n",
    "for line in in_file:\n",
    "    items = line.split()\n",
    "    # Retrieve relevant columns\n",
    "    tree_id = items[0]\n",
    "    s94 = float(items[4])\n",
    "    s97 = float(items[5])\n",
    "    s98 = float(items[6])\n",
    "    \n",
    "    # Populate our dictionaires\n",
    "    sizes_94[tree_id] = s94 \n",
    "    sizes_97[tree_id] = s97\n",
    "    sizes_98[tree_id] = s98\n",
    "in_file.close()"
   ]
  },
  {
   "cell_type": "code",
   "execution_count": 7,
   "metadata": {
    "collapsed": false
   },
   "outputs": [
    {
     "data": {
      "image/png": "[encoded data removed]",
      "text/plain": [
       "<matplotlib.figure.Figure at 0x7f90084779b0>"
      ]
     },
     "metadata": {},
     "output_type": "display_data"
    }
   ],
   "source": [
    "import matplotlib.pyplot as plt\n",
    "sizes_in_1994 = list(sizes_94.values())\n",
    "plt.hist(sizes_in_1994, log = True)\n",
    "plt.show()"
   ]
  },
  {
   "cell_type": "code",
   "execution_count": 8,
   "metadata": {
    "collapsed": false
   },
   "outputs": [
    {
     "data": {
      "image/png": "[encoded data removed]",
      "text/plain": [
       "<matplotlib.figure.Figure at 0x7f90084d74a8>"
      ]
     },
     "metadata": {},
     "output_type": "display_data"
    }
   ],
   "source": [
    "sizes_in_1994 = list(sizes_94.values())\n",
    "sizes_in_1998 = list(sizes_98.values())\n",
    "\n",
    "f, (ax1, ax2) = plt.subplots(1, 2, sharex = True, sharey = True)\n",
    "ax1.hist(sizes_in_1994, log = True)\n",
    "ax1.set_title('Hist in 94')\n",
    "ax2.hist(sizes_in_1998, log = True)\n",
    "ax2.set_title('Hist in 98')\n",
    "plt.show()"
   ]
  },
  {
   "cell_type": "code",
   "execution_count": 9,
   "metadata": {
    "collapsed": true
   },
   "outputs": [],
   "source": [
    "sizes_in_1994[:] = (value for value in sizes_in_1994 if value != -2)\n",
    "# For each value in sizes_in_1994, if the value is not -2, return value"
   ]
  },
  {
   "cell_type": "code",
   "execution_count": 13,
   "metadata": {
    "collapsed": false
   },
   "outputs": [
    {
     "data": {
      "image/png": "[encoded data removed]",
      "text/plain": [
       "<matplotlib.figure.Figure at 0x7f90086455f8>"
      ]
     },
     "metadata": {},
     "output_type": "display_data"
    }
   ],
   "source": [
    "sizes_in_1994 = list(sizes_94.values())\n",
    "sizes_in_1998 = list(sizes_98.values())\n",
    "\n",
    "plt.plot([sizes_in_1994], [sizes_in_1998], 'r o')\n",
    "plt.show()"
   ]
  },
  {
   "cell_type": "code",
   "execution_count": null,
   "metadata": {
    "collapsed": true
   },
   "outputs": [],
   "source": []
  }
 ],
 "metadata": {
  "anaconda-cloud": {},
  "kernelspec": {
   "display_name": "Python [conda root]",
   "language": "python",
   "name": "conda-root-py"
  },
  "language_info": {
   "codemirror_mode": {
    "name": "ipython",
    "version": 3
   },
   "file_extension": ".py",
   "mimetype": "text/x-python",
   "name": "python",
   "nbconvert_exporter": "python",
   "pygments_lexer": "ipython3",
   "version": "3.5.2"
  }
 },
 "nbformat": 4,
 "nbformat_minor": 2
}
